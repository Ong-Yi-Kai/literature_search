{
 "cells": [
  {
   "cell_type": "code",
   "execution_count": 1,
   "outputs": [],
   "source": [
    "API_KEY = \"PWs3U9oSnBvIsW6tn8uuadoqMRHbUFfRDpAeyI3IFUR6STKBF0tD\""
   ],
   "metadata": {
    "collapsed": false
   }
  },
  {
   "cell_type": "markdown",
   "id": "5b099faa",
   "metadata": {},
   "source": [
    "# Search Parameters"
   ]
  },
  {
   "cell_type": "code",
   "execution_count": 2,
   "id": "de80742b",
   "metadata": {},
   "outputs": [],
   "source": [
    "seed = 70 # seed for NMF topic model\n",
    "num_topics = 12\n",
    "labels = 'ABCDEFGHIJKLMNOPQRSTUVWXYZ'\n",
    "vis_seed = 6 # seed for t-SNE visualization\n",
    "vis_angle = 135 # rotation angle for visualization"
   ]
  },
  {
   "cell_type": "markdown",
   "id": "96cc9df7",
   "metadata": {},
   "source": [
    "# Import Modules"
   ]
  },
  {
   "cell_type": "code",
   "execution_count": 3,
   "id": "68d028fd",
   "metadata": {
    "scrolled": true
   },
   "outputs": [],
   "source": [
    "import requests\n",
    "import time\n",
    "import gensim\n",
    "from gensim.utils import simple_preprocess\n",
    "import numpy as np\n",
    "import re\n",
    "import pandas as pd\n",
    "import matplotlib.pyplot as plt\n",
    "from wordcloud import WordCloud\n",
    "from IPython.display import display\n",
    "from collections import defaultdict\n",
    "import json\n",
    "\n",
    "import seaborn as sns\n",
    "sns.set('paper')\n",
    "\n",
    "import logging\n",
    "logging.getLogger().setLevel(logging.INFO)\n",
    "\n",
    "# some python 3 trickery\n",
    "import sys\n",
    "if sys.version_info[0] >= 3:\n",
    "    unicode = str"
   ]
  },
  {
   "cell_type": "markdown",
   "id": "e190017f",
   "metadata": {},
   "source": [
    "# Useful Functions"
   ]
  },
  {
   "cell_type": "code",
   "execution_count": 4,
   "id": "89cfb5ec",
   "metadata": {},
   "outputs": [],
   "source": [
    "def prepare_fig(w=1, h=None):\n",
    "    if h is None: h = w\n",
    "    figsize = (6 * w, 3 * h)\n",
    "    sns.set(rc={'figure.figsize': figsize})\n",
    "    fig = plt.figure(figsize=figsize)\n",
    "    plt.clf()\n",
    "    return fig\n",
    "\n",
    "def top_k(mapping, k=10):\n",
    "    return sorted(mapping.keys(), key=lambda x: mapping[x])[::-1][:k]\n",
    "\n",
    "pd.set_option('display.max_rows', 250)\n",
    "\n",
    "def plot_statistic(fun):\n",
    "    count = defaultdict(int)\n",
    "\n",
    "    for row in fun:\n",
    "        if row:\n",
    "            count[unicode(row)] += 1\n",
    "\n",
    "    top_keys = top_k(count, 50)\n",
    "\n",
    "    prepare_fig(1, 4)\n",
    "    plt.xlabel(\"No. publications\")\n",
    "    plt.barh(\n",
    "        range(len(top_keys)),\n",
    "        [count[a] for a in top_keys])\n",
    "    plt.yticks(\n",
    "        range(len(top_keys)), \n",
    "        [key[:50] for key in top_keys])\n",
    "    plt.show()"
   ]
  },
  {
   "cell_type": "markdown",
   "id": "fe9d60e0",
   "metadata": {},
   "source": [
    "# Perform Query"
   ]
  },
  {
   "cell_type": "code",
   "execution_count": 5,
   "id": "91834765",
   "metadata": {
    "collapsed": true
   },
   "outputs": [
    {
     "name": "stdout",
     "output_type": "stream",
     "text": [
      "Empty DataFrame\n",
      "Columns: []\n",
      "Index: []\n",
      "               lens_id                                              title  \\\n",
      "0  043-381-014-847-221  FEK self-assembled peptide hydrogels facilitat...   \n",
      "1  106-348-768-834-151  Sustainability assessment of palm oil-based re...   \n",
      "2  009-418-160-779-435  Impact of nanoparticles on the environmental s...   \n",
      "3  001-235-163-928-974  A Flexible Anti-Biofilm Hygiene Coating for Wa...   \n",
      "4  039-765-729-676-647  Life cycle assessment of auto-tropically culti...   \n",
      "\n",
      "  publication_type  year_published                    date_published  \\\n",
      "0  journal article          2022.0  2022-03-18T00:00:00.000000+00:00   \n",
      "1  journal article          2022.0  2022-12-01T00:00:00.000000+00:00   \n",
      "2  journal article          2022.0                               NaN   \n",
      "3  journal article          2022.0  2022-07-31T00:00:00.000000+00:00   \n",
      "4  journal article          2022.0  2022-08-25T00:00:00.000000+00:00   \n",
      "\n",
      "  date_published_parts                           created  \\\n",
      "0        [2022, 3, 18]  2022-03-26T17:06:43.286000+00:00   \n",
      "1        [2022, 12, 1]  2022-12-06T13:42:25.760000+00:00   \n",
      "2            [2022, 2]  2022-01-03T08:40:11.837000+00:00   \n",
      "3        [2022, 7, 31]  2022-08-01T04:27:40.503000+00:00   \n",
      "4        [2022, 8, 25]  2022-08-29T09:31:28.835000+00:00   \n",
      "\n",
      "                                        external_ids  \\\n",
      "0  [{'type': 'openalex', 'value': 'W4220832368'},...   \n",
      "1  [{'type': 'doi', 'value': '10.18331/brj2022.9....   \n",
      "2  [{'type': 'openalex', 'value': 'W4205804977'},...   \n",
      "3  [{'type': 'openalex', 'value': 'W4289048822'},...   \n",
      "4  [{'type': 'openalex', 'value': 'W4293231990'},...   \n",
      "\n",
      "                                             authors  \\\n",
      "0  [{'first_name': 'Ting', 'last_name': 'He', 'in...   \n",
      "1  [{'first_name': 'Shabbir H.', 'last_name': 'Gh...   \n",
      "2  [{'first_name': 'Sabrina C.', 'last_name': 'Ca...   \n",
      "3  [{'first_name': 'Melvin S', 'last_name': 'Samu...   \n",
      "4  [{'first_name': 'Dan', 'last_name': 'Zhang', '...   \n",
      "\n",
      "                                              source  ... start_page end_page  \\\n",
      "0  {'title': 'Journal of biomedical materials res...  ...       2015     2027   \n",
      "1  {'title': 'Biofuel Research Journal', 'publish...  ...       1750     1763   \n",
      "2  {'title': 'Journal of Cleaner Production', 'ty...  ...     130322   130322   \n",
      "3  {'title': 'ACS applied bio materials', 'publis...  ...       3991     3998   \n",
      "4  {'title': 'Frontiers in Marine Science', 'type...  ...        NaN      NaN   \n",
      "\n",
      "  author_count                               open_access is_open_access  \\\n",
      "0         11.0                                       NaN            NaN   \n",
      "1          6.0    {'license': 'cc-by', 'colour': 'gold'}           True   \n",
      "2          6.0  {'license': 'cc-by', 'colour': 'hybrid'}           True   \n",
      "3          4.0                                       NaN            NaN   \n",
      "4          9.0    {'license': 'cc-by', 'colour': 'gold'}           True   \n",
      "\n",
      "  scholarly_citations_count                         scholarly_citations  \\\n",
      "0                       NaN                                         NaN   \n",
      "1                       NaN                                         NaN   \n",
      "2                       2.0  [054-163-665-773-418, 108-347-312-962-348]   \n",
      "3                       NaN                                         NaN   \n",
      "4                       NaN                                         NaN   \n",
      "\n",
      "  source_urls patent_citations patent_citations_count  \n",
      "0         NaN              NaN                    NaN  \n",
      "1         NaN              NaN                    NaN  \n",
      "2         NaN              NaN                    NaN  \n",
      "3         NaN              NaN                    NaN  \n",
      "4         NaN              NaN                    NaN  \n",
      "\n",
      "[5 rows x 32 columns]\n"
     ]
    }
   ],
   "source": [
    "# Some query examples\n",
    "# \"protein AND (molecular dynamics) AND year_published:[2000 TO 2018]\"\n",
    "# \"author.display_name:(Jingjie AND Yeo) AND year_published:[2000 TO 2018]\"\n",
    "# \"(autonomous driving) OR (self-driving car) OR (robotic car)\"\n",
    "# \"(silk) OR (collagen) AND (biomaterial) AND (molecular dynamics)\"\n",
    "# \"(community participatory research) AND year_published:[2017 TO 2018]\"\n",
    "\n",
    "url = 'https://api.lens.org/scholarly/search'\n",
    "\n",
    "request_body = '''{\n",
    "\t\"query\": {\n",
    "\t\t\"query_string\": {\n",
    "\t\t\t\"query\": \"(LCA) AND (biomaterial)\",\n",
    "            \"default_operator\": \"and\"\n",
    "\t\t}\n",
    "\t},\n",
    "    \"languages\": \"en\",\n",
    "    \"scroll\": \"1m\",\n",
    "    \"size\": 500,\n",
    "    \"sort\": [\n",
    "            {\n",
    "            \"year_published\": \"desc\"\n",
    "            }\n",
    "     ]\n",
    "}'''\n",
    "\n",
    "headers = {'Authorization': API_KEY, 'Content-Type': 'application/json'}\n",
    "\n",
    "# Recursive function to scroll through paginated results\n",
    "def scroll(scroll_id, url, request_body, headers, df_raw):\n",
    "    print(df_raw.head())\n",
    "    # Change the request_body to prepare for next scroll api call\n",
    "    # Make sure to append the include fields to make faster response\n",
    "    if scroll_id is not None:\n",
    "        request_body = '''{\"scroll_id\": \"%s\"}''' % (scroll_id)\n",
    "\n",
    "    # make api request\n",
    "    response = requests.post(url, data=request_body, headers=headers)\n",
    "\n",
    "    # If rate-limited, wait for n seconds and proceed the same scroll id\n",
    "    # Since scroll time is 1 minutes, it will give sufficient time to wait and proceed\n",
    "    if response.status_code == requests.codes.too_many_requests:\n",
    "        time.sleep(8)\n",
    "        return scroll(scroll_id, url, request_body, headers, df_raw)\n",
    "\n",
    "    # If the response is not ok here, better to stop here and debug it\n",
    "    elif response.status_code != requests.codes.ok:\n",
    "        print(response.json())\n",
    "\n",
    "    # If the response is ok, do something with the response, take the new scroll id and iterate\n",
    "    else:\n",
    "        json = response.json()\n",
    "\n",
    "        # End recursion once end of search is reached\n",
    "        if not json['data']:\n",
    "            return df_raw\n",
    "\n",
    "        scroll_id = json['scroll_id'] # Extract the new scroll id from response\n",
    "\n",
    "        # Store the data into a dataframe\n",
    "        df_raw = pd.concat([df_raw,pd.DataFrame.from_dict(json['data'])])\n",
    "\n",
    "        # Keep scrolling\n",
    "        return scroll(scroll_id, url, request_body, headers, df_raw)\n",
    "\n",
    "# start recursive scrolling\n",
    "df_raw = pd.DataFrame()\n",
    "df_raw = scroll(None, url, request_body, headers, df_raw)\n",
    "# Raw Data\n",
    "df_raw = df_raw.reset_index() # make sure indexes pair with number of rows\n",
    "\n",
    "# Filter journal articles only\n",
    "df = df_raw[df_raw['publication_type'].str.contains('journal article', na=False)]\n",
    "df = df.reset_index() # make sure indexes pair with number of rows"
   ]
  },
  {
   "cell_type": "code",
   "execution_count": 6,
   "id": "d7551569",
   "metadata": {},
   "outputs": [],
   "source": [
    "# Post-process data to obtain author information        \n",
    "from itertools import combinations\n",
    "\n",
    "# Get each manuscript's author names as a Pandas Series\n",
    "authors = pd.DataFrame()\n",
    "for a in df['authors'].dropna():\n",
    "    try:\n",
    "        author_list = []\n",
    "        for b in a:\n",
    "            try:\n",
    "                author_list.append(b['last_name'] + ', ' + b['first_name'])\n",
    "            except Exception:\n",
    "                continue\n",
    "        \n",
    "        author = []\n",
    "        author.append(author_list)\n",
    "        authors = pd.concat([authors,pd.Series(author)], ignore_index=True)\n",
    "    except Exception:\n",
    "        continue\n",
    "\n",
    "# We will extract author connections\n",
    "# First, convert to Pandas Series\n",
    "authors = authors.squeeze()\n",
    "\n",
    "# Create a list of these authors\n",
    "authors_flat = [\n",
    "    author\n",
    "    for authors in list(authors.dropna())\n",
    "    for author in authors\n",
    "]\n",
    "\n",
    "# Permute all combinations of author pairs in each manuscript\n",
    "author_connections = list(\n",
    "    map(lambda x: list(combinations(x[::-1], 2)), authors)\n",
    ")\n",
    "\n",
    "# Flatten into a list\n",
    "flat_connections = [item for sublist in author_connections for item in sublist]\n",
    "\n",
    "# Create a dataframe with the connections\n",
    "df_connect = pd.DataFrame(flat_connections, columns=[\"From\", \"To\"])\n",
    "df_graph = df_connect.groupby([\"From\", \"To\"]).size().reset_index()\n",
    "df_graph.columns = [\"From\", \"To\", \"Count\"]\n"
   ]
  },
  {
   "cell_type": "code",
   "execution_count": 7,
   "id": "0fadf373",
   "metadata": {},
   "outputs": [],
   "source": [
    "# Create graphs to connect each manuscript's authors\n",
    "import networkx as nx\n",
    "from collections import Counter\n",
    "\n",
    "G = nx.from_pandas_edgelist(\n",
    "    df_graph, source=\"From\", target=\"To\", edge_attr=\"Count\"\n",
    ")\n",
    "\n",
    "# Limit to top authors, please edit accordingly\n",
    "top_authors = pd.DataFrame.from_records(\n",
    "    Counter(authors_flat).most_common(20), columns=[\"Name\", \"Count\"]\n",
    ")\n",
    "\n",
    "top_nodes = (n for n in list(G.nodes()) if n in list(top_authors[\"Name\"]))\n",
    "\n",
    "G_top = G.subgraph(top_nodes)\n",
    "\n",
    "for n in G_top.nodes():\n",
    "    G_top.nodes[n][\"publications\"] = int(\n",
    "        top_authors[top_authors[\"Name\"] == n][\"Count\"]\n",
    "    )"
   ]
  },
  {
   "cell_type": "markdown",
   "source": [
    "# Plotting using Bokeh"
   ],
   "metadata": {
    "collapsed": false
   }
  },
  {
   "cell_type": "markdown",
   "source": [
    "running on colab notebooks might require one to install bokeh and networkx package <br>run \"!pip install networkx==v2.7.1 bokeh==v3.0.3\" in a cell"
   ],
   "metadata": {
    "collapsed": false
   }
  },
  {
   "cell_type": "code",
   "execution_count": 8,
   "outputs": [],
   "source": [
    "# networkx v2.7.1\n",
    "# bokeh v3.0.3\n",
    "from bokeh.io import output_notebook, show\n",
    "from bokeh.plotting import from_networkx, figure\n",
    "# for rendering\n",
    "from bokeh.models import (BoxSelectTool, Circle, HoverTool, MultiLine, NodesAndLinkedEdges, TapTool, Range1d)\n",
    "# for color\n",
    "from bokeh.palettes import TolYlOrBr9, Blues9, Category10_9, Dark2_8\n",
    "from bokeh.transform import linear_cmap\n",
    "# for labels\n",
    "from bokeh.models import ColumnDataSource, LabelSet\n",
    "\n",
    "\n",
    "\"\"\"\n",
    "Render an interactive using Bokeh\n",
    "\n",
    "G: Networkx graph object to be rendered\n",
    "layout: str, specify the layout of the graph. one of \"spring\", \"circular\", \"random\", \"kamada_kawai\"\n",
    "color: color palette from bokeh, can be found on bokeh docs at https://docs.bokeh.org/en/latest/docs/reference/palettes.html\n",
    "\n",
    "returns: bokeh plot object.\n",
    "\"\"\"\n",
    "def bokeh_graph_plot(G,layout = \"spring\", color_palette=Dark2_8):\n",
    "\n",
    "     # convert the labels of nodes to integers\n",
    "    G_num = nx.convert_node_labels_to_integers(G, label_attribute=\"Name\")\n",
    "\n",
    "    # calculate the spread of the number of publications\n",
    "    num_pubs_list = [G_num.nodes().get(n_idx)['publications'] for n_idx in G_num.nodes()]\n",
    "    num_pub_range = max(num_pubs_list) - min(num_pubs_list)\n",
    "    graph_scale = max(2,num_pub_range)\n",
    "\n",
    "    # to adjust node size\n",
    "    adj_node_size = {n_idx:((max(2,G_num.nodes().get(n_idx)['publications']-min(num_pubs_list)))/num_pub_range)*20 for n_idx in G_num.nodes()}\n",
    "    nx.set_node_attributes(G_num,name=\"adj_node_size\",values=adj_node_size)\n",
    "\n",
    "    #to color nodes based on connected components\n",
    "    node_color = {}\n",
    "    connected_components = list(nx.connected_components(G_num))\n",
    "    for idx,component in enumerate(connected_components):\n",
    "        color = color_palette[int((idx/len(connected_components))*len(color_palette))]\n",
    "        for n in component:\n",
    "            node_color[n] = color\n",
    "    nx.set_node_attributes(G_num,name=\"node_color\",values=node_color)\n",
    "\n",
    "    # to annotate nodes with fname\n",
    "    lname = {n_idx:G_num.nodes().get(n_idx)['Name'].split(',')[0] for n_idx in G_num.nodes()}\n",
    "    nx.set_node_attributes(G_num,name=\"lname\",values=lname)\n",
    "\n",
    "    # to adjust the width of edges\n",
    "    num_citations_list = [G_num.edges().get(n_idx)[\"Count\"] for n_idx in G_num.edges()]\n",
    "    num_citations_range = max(num_citations_list)-min(num_citations_list)\n",
    "    adj_edge_size = {n_idx:((max(1,G_num.edges().get(n_idx)[\"Count\"]-min(num_citations_list)))/num_citations_range)*5 for n_idx in G_num.edges()}\n",
    "    nx.set_edge_attributes(G_num, name=\"adj_edge_width\", values=adj_edge_size)\n",
    "\n",
    "    # basic graph renderer\n",
    "    if layout == \"spring\":\n",
    "        graph_renderer = from_networkx(G_num, nx.spring_layout, scale=graph_scale, center=(0,0), k=0.5)\n",
    "    elif layout == \"circular\":\n",
    "        graph_renderer = from_networkx(G_num, nx.circular_layout, scale=2, center=(0,0))\n",
    "    elif layout == \"kamada_kawai\":\n",
    "        graph_renderer = from_networkx(G_num, nx.kamada_kawai_layout, scale=2, center=(0,0))\n",
    "    else:\n",
    "        graph_renderer = from_networkx(G_num, nx.random_layout,center=(0,0))\n",
    "\n",
    "    # setup plot\n",
    "\n",
    "    plot = figure(title=\"Publication network analysis\",\n",
    "                  min_width = 500, min_height = 500,\n",
    "                  # x_range=Range1d(-2.5,2.5), y_range=Range1d(-2.5,2.5),\n",
    "                  tools=\"pan,save,reset,wheel_zoom,box_zoom\", active_scroll = \"wheel_zoom\")\n",
    "    # for tool tip of node\n",
    "    plot.add_tools(HoverTool(tooltips=[('Name','@Name'),('Publications','@publications')],\n",
    "                             renderers=[graph_renderer.node_renderer]))\n",
    "    # for tool tip of edge\n",
    "    plot.add_tools(HoverTool(tooltips=[('Count','@Count')],\n",
    "                             renderers=[graph_renderer.edge_renderer],\n",
    "                             line_policy=\"interp\"))\n",
    "    # for selection options (mouse click and lasso select)\n",
    "    plot.add_tools(TapTool(), BoxSelectTool())\n",
    "\n",
    "\n",
    "    # nodes\n",
    "\n",
    "    node_size_attrib = \"adj_node_size\"\n",
    "    node_color_attrib = \"node_color\"\n",
    "\n",
    "    # render the nodes\n",
    "    graph_renderer.node_renderer.glyph = Circle(size=node_size_attrib, fill_color=node_color_attrib)\n",
    "    graph_renderer.node_renderer.selection_glyph = Circle(size=15, fill_color='red')\n",
    "    graph_renderer.node_renderer.hover_glyph = Circle(size=15, fill_color='black')\n",
    "\n",
    "    # Edges\n",
    "\n",
    "    edge_width_attrib = \"adj_edge_width\"\n",
    "\n",
    "    # render the edges\n",
    "    graph_renderer.edge_renderer.glyph = MultiLine(line_color = \"#CCCCCC\", line_alpha=0.5, line_width=edge_width_attrib)\n",
    "    graph_renderer.edge_renderer.selection_glyph = MultiLine(line_color = 'red', line_alpha=0.5, line_width=edge_width_attrib)\n",
    "    graph_renderer.edge_renderer.hover_glyph = MultiLine(line_color = 'black', line_alpha=0.5, line_width=edge_width_attrib)\n",
    "\n",
    "    # selection and insepection methods, gets the node and the edges assoc with the node\n",
    "    graph_renderer.selection_policy = NodesAndLinkedEdges()\n",
    "    graph_renderer.inspection_policy = NodesAndLinkedEdges()\n",
    "\n",
    "\n",
    "    # add labels\n",
    "    label_attrib = \"lname\"\n",
    "    x, y = zip(*graph_renderer.layout_provider.graph_layout.values())\n",
    "    node_labels = list(G_num.nodes())\n",
    "    source = ColumnDataSource({'x':x,'y':y,\n",
    "                               'name':[n_data[1][label_attrib] for n_data in G_num.nodes().data()]})\n",
    "    labels = LabelSet(x='x', y='y', text='name', source=source, background_fill_color='white', text_font_size='10px', background_fill_alpha=.7)\n",
    "    plot.renderers.append(labels)\n",
    "\n",
    "    # show plot\n",
    "    plot.renderers.append(graph_renderer)\n",
    "\n",
    "    return plot"
   ],
   "metadata": {
    "collapsed": false
   }
  },
  {
   "cell_type": "markdown",
   "source": [
    "Similarly, the plot uses networkx layouts, where the included options are spring, circular, kamada_kawai and random. Nodes that belong to the same connected component of the graph are colored the same and the node size is reflective of the number of publications by the person. The edge width is reflective of the number of shared publications.<br><br>Hovering over nodes would display the full name and the number of publication. Hovering over edges show the number of shared publications.<br><br>There are also some tools for interactivity, which can be enabled and disabled in the tool-bar on the right side of the graph. In order from top to bottom, \"pan\", \"box zoom\", \"box select\", \"mouse wheel zoom\", \"select\", \"download\", \"reset\", \"hover for nodes\", \"hover for edges\"."
   ],
   "metadata": {
    "collapsed": false
   }
  },
  {
   "cell_type": "code",
   "execution_count": 9,
   "outputs": [
    {
     "data": {
      "text/html": "<style>\n        .bk-notebook-logo {\n            display: block;\n            width: 20px;\n            height: 20px;\n            background-image: url(data:image/png;base64,iVBORw0KGgoAAAANSUhEUgAAABQAAAAUCAYAAACNiR0NAAAABHNCSVQICAgIfAhkiAAAAAlwSFlzAAALEgAACxIB0t1+/AAAABx0RVh0U29mdHdhcmUAQWRvYmUgRmlyZXdvcmtzIENTNui8sowAAAOkSURBVDiNjZRtaJVlGMd/1/08zzln5zjP1LWcU9N0NkN8m2CYjpgQYQXqSs0I84OLIC0hkEKoPtiH3gmKoiJDU7QpLgoLjLIQCpEsNJ1vqUOdO7ppbuec5+V+rj4ctwzd8IIbbi6u+8f1539dt3A78eXC7QizUF7gyV1fD1Yqg4JWz84yffhm0qkFqBogB9rM8tZdtwVsPUhWhGcFJngGeWrPzHm5oaMmkfEg1usvLFyc8jLRqDOMru7AyC8saQr7GG7f5fvDeH7Ej8CM66nIF+8yngt6HWaKh7k49Soy9nXurCi1o3qUbS3zWfrYeQDTB/Qj6kX6Ybhw4B+bOYoLKCC9H3Nu/leUTZ1JdRWkkn2ldcCamzrcf47KKXdAJllSlxAOkRgyHsGC/zRday5Qld9DyoM4/q/rUoy/CXh3jzOu3bHUVZeU+DEn8FInkPBFlu3+nW3Nw0mk6vCDiWg8CeJaxEwuHS3+z5RgY+YBR6V1Z1nxSOfoaPa4LASWxxdNp+VWTk7+4vzaou8v8PN+xo+KY2xsw6une2frhw05CTYOmQvsEhjhWjn0bmXPjpE1+kplmmkP3suftwTubK9Vq22qKmrBhpY4jvd5afdRA3wGjFAgcnTK2s4hY0/GPNIb0nErGMCRxWOOX64Z8RAC4oCXdklmEvcL8o0BfkNK4lUg9HTl+oPlQxdNo3Mg4Nv175e/1LDGzZen30MEjRUtmXSfiTVu1kK8W4txyV6BMKlbgk3lMwYCiusNy9fVfvvwMxv8Ynl6vxoByANLTWplvuj/nF9m2+PDtt1eiHPBr1oIfhCChQMBw6Aw0UulqTKZdfVvfG7VcfIqLG9bcldL/+pdWTLxLUy8Qq38heUIjh4XlzZxzQm19lLFlr8vdQ97rjZVOLf8nclzckbcD4wxXMidpX30sFd37Fv/GtwwhzhxGVAprjbg0gCAEeIgwCZyTV2Z1REEW8O4py0wsjeloKoMr6iCY6dP92H6Vw/oTyICIthibxjm/DfN9lVz8IqtqKYLUXfoKVMVQVVJOElGjrnnUt9T9wbgp8AyYKaGlqingHZU/uG2NTZSVqwHQTWkx9hxjkpWDaCg6Ckj5qebgBVbT3V3NNXMSiWSDdGV3hrtzla7J+duwPOToIg42ChPQOQjspnSlp1V+Gjdged7+8UN5CRAV7a5EdFNwCjEaBR27b3W890TE7g24NAP/mMDXRWrGoFPQI9ls/MWO2dWFAar/xcOIImbbpA3zgAAAABJRU5ErkJggg==);\n        }\n    </style>\n    <div>\n        <a href=\"https://bokeh.org\" target=\"_blank\" class=\"bk-notebook-logo\"></a>\n        <span id=\"p1160\">Loading BokehJS ...</span>\n    </div>\n"
     },
     "metadata": {},
     "output_type": "display_data"
    },
    {
     "data": {
      "application/javascript": "(function(root) {\n  function now() {\n    return new Date();\n  }\n\n  const force = true;\n\n  if (typeof root._bokeh_onload_callbacks === \"undefined\" || force === true) {\n    root._bokeh_onload_callbacks = [];\n    root._bokeh_is_loading = undefined;\n  }\n\nconst JS_MIME_TYPE = 'application/javascript';\n  const HTML_MIME_TYPE = 'text/html';\n  const EXEC_MIME_TYPE = 'application/vnd.bokehjs_exec.v0+json';\n  const CLASS_NAME = 'output_bokeh rendered_html';\n\n  /**\n   * Render data to the DOM node\n   */\n  function render(props, node) {\n    const script = document.createElement(\"script\");\n    node.appendChild(script);\n  }\n\n  /**\n   * Handle when an output is cleared or removed\n   */\n  function handleClearOutput(event, handle) {\n    const cell = handle.cell;\n\n    const id = cell.output_area._bokeh_element_id;\n    const server_id = cell.output_area._bokeh_server_id;\n    // Clean up Bokeh references\n    if (id != null && id in Bokeh.index) {\n      Bokeh.index[id].model.document.clear();\n      delete Bokeh.index[id];\n    }\n\n    if (server_id !== undefined) {\n      // Clean up Bokeh references\n      const cmd_clean = \"from bokeh.io.state import curstate; print(curstate().uuid_to_server['\" + server_id + \"'].get_sessions()[0].document.roots[0]._id)\";\n      cell.notebook.kernel.execute(cmd_clean, {\n        iopub: {\n          output: function(msg) {\n            const id = msg.content.text.trim();\n            if (id in Bokeh.index) {\n              Bokeh.index[id].model.document.clear();\n              delete Bokeh.index[id];\n            }\n          }\n        }\n      });\n      // Destroy server and session\n      const cmd_destroy = \"import bokeh.io.notebook as ion; ion.destroy_server('\" + server_id + \"')\";\n      cell.notebook.kernel.execute(cmd_destroy);\n    }\n  }\n\n  /**\n   * Handle when a new output is added\n   */\n  function handleAddOutput(event, handle) {\n    const output_area = handle.output_area;\n    const output = handle.output;\n\n    // limit handleAddOutput to display_data with EXEC_MIME_TYPE content only\n    if ((output.output_type != \"display_data\") || (!Object.prototype.hasOwnProperty.call(output.data, EXEC_MIME_TYPE))) {\n      return\n    }\n\n    const toinsert = output_area.element.find(\".\" + CLASS_NAME.split(' ')[0]);\n\n    if (output.metadata[EXEC_MIME_TYPE][\"id\"] !== undefined) {\n      toinsert[toinsert.length - 1].firstChild.textContent = output.data[JS_MIME_TYPE];\n      // store reference to embed id on output_area\n      output_area._bokeh_element_id = output.metadata[EXEC_MIME_TYPE][\"id\"];\n    }\n    if (output.metadata[EXEC_MIME_TYPE][\"server_id\"] !== undefined) {\n      const bk_div = document.createElement(\"div\");\n      bk_div.innerHTML = output.data[HTML_MIME_TYPE];\n      const script_attrs = bk_div.children[0].attributes;\n      for (let i = 0; i < script_attrs.length; i++) {\n        toinsert[toinsert.length - 1].firstChild.setAttribute(script_attrs[i].name, script_attrs[i].value);\n        toinsert[toinsert.length - 1].firstChild.textContent = bk_div.children[0].textContent\n      }\n      // store reference to server id on output_area\n      output_area._bokeh_server_id = output.metadata[EXEC_MIME_TYPE][\"server_id\"];\n    }\n  }\n\n  function register_renderer(events, OutputArea) {\n\n    function append_mime(data, metadata, element) {\n      // create a DOM node to render to\n      const toinsert = this.create_output_subarea(\n        metadata,\n        CLASS_NAME,\n        EXEC_MIME_TYPE\n      );\n      this.keyboard_manager.register_events(toinsert);\n      // Render to node\n      const props = {data: data, metadata: metadata[EXEC_MIME_TYPE]};\n      render(props, toinsert[toinsert.length - 1]);\n      element.append(toinsert);\n      return toinsert\n    }\n\n    /* Handle when an output is cleared or removed */\n    events.on('clear_output.CodeCell', handleClearOutput);\n    events.on('delete.Cell', handleClearOutput);\n\n    /* Handle when a new output is added */\n    events.on('output_added.OutputArea', handleAddOutput);\n\n    /**\n     * Register the mime type and append_mime function with output_area\n     */\n    OutputArea.prototype.register_mime_type(EXEC_MIME_TYPE, append_mime, {\n      /* Is output safe? */\n      safe: true,\n      /* Index of renderer in `output_area.display_order` */\n      index: 0\n    });\n  }\n\n  // register the mime type if in Jupyter Notebook environment and previously unregistered\n  if (root.Jupyter !== undefined) {\n    const events = require('base/js/events');\n    const OutputArea = require('notebook/js/outputarea').OutputArea;\n\n    if (OutputArea.prototype.mime_types().indexOf(EXEC_MIME_TYPE) == -1) {\n      register_renderer(events, OutputArea);\n    }\n  }\n  if (typeof (root._bokeh_timeout) === \"undefined\" || force === true) {\n    root._bokeh_timeout = Date.now() + 5000;\n    root._bokeh_failed_load = false;\n  }\n\n  const NB_LOAD_WARNING = {'data': {'text/html':\n     \"<div style='background-color: #fdd'>\\n\"+\n     \"<p>\\n\"+\n     \"BokehJS does not appear to have successfully loaded. If loading BokehJS from CDN, this \\n\"+\n     \"may be due to a slow or bad network connection. Possible fixes:\\n\"+\n     \"</p>\\n\"+\n     \"<ul>\\n\"+\n     \"<li>re-rerun `output_notebook()` to attempt to load from CDN again, or</li>\\n\"+\n     \"<li>use INLINE resources instead, as so:</li>\\n\"+\n     \"</ul>\\n\"+\n     \"<code>\\n\"+\n     \"from bokeh.resources import INLINE\\n\"+\n     \"output_notebook(resources=INLINE)\\n\"+\n     \"</code>\\n\"+\n     \"</div>\"}};\n\n  function display_loaded() {\n    const el = document.getElementById(\"p1160\");\n    if (el != null) {\n      el.textContent = \"BokehJS is loading...\";\n    }\n    if (root.Bokeh !== undefined) {\n      if (el != null) {\n        el.textContent = \"BokehJS \" + root.Bokeh.version + \" successfully loaded.\";\n      }\n    } else if (Date.now() < root._bokeh_timeout) {\n      setTimeout(display_loaded, 100)\n    }\n  }\n\n  function run_callbacks() {\n    try {\n      root._bokeh_onload_callbacks.forEach(function(callback) {\n        if (callback != null)\n          callback();\n      });\n    } finally {\n      delete root._bokeh_onload_callbacks\n    }\n    console.debug(\"Bokeh: all callbacks have finished\");\n  }\n\n  function load_libs(css_urls, js_urls, callback) {\n    if (css_urls == null) css_urls = [];\n    if (js_urls == null) js_urls = [];\n\n    root._bokeh_onload_callbacks.push(callback);\n    if (root._bokeh_is_loading > 0) {\n      console.debug(\"Bokeh: BokehJS is being loaded, scheduling callback at\", now());\n      return null;\n    }\n    if (js_urls == null || js_urls.length === 0) {\n      run_callbacks();\n      return null;\n    }\n    console.debug(\"Bokeh: BokehJS not loaded, scheduling load and callback at\", now());\n    root._bokeh_is_loading = css_urls.length + js_urls.length;\n\n    function on_load() {\n      root._bokeh_is_loading--;\n      if (root._bokeh_is_loading === 0) {\n        console.debug(\"Bokeh: all BokehJS libraries/stylesheets loaded\");\n        run_callbacks()\n      }\n    }\n\n    function on_error(url) {\n      console.error(\"failed to load \" + url);\n    }\n\n    for (let i = 0; i < css_urls.length; i++) {\n      const url = css_urls[i];\n      const element = document.createElement(\"link\");\n      element.onload = on_load;\n      element.onerror = on_error.bind(null, url);\n      element.rel = \"stylesheet\";\n      element.type = \"text/css\";\n      element.href = url;\n      console.debug(\"Bokeh: injecting link tag for BokehJS stylesheet: \", url);\n      document.body.appendChild(element);\n    }\n\n    for (let i = 0; i < js_urls.length; i++) {\n      const url = js_urls[i];\n      const element = document.createElement('script');\n      element.onload = on_load;\n      element.onerror = on_error.bind(null, url);\n      element.async = false;\n      element.src = url;\n      console.debug(\"Bokeh: injecting script tag for BokehJS library: \", url);\n      document.head.appendChild(element);\n    }\n  };\n\n  function inject_raw_css(css) {\n    const element = document.createElement(\"style\");\n    element.appendChild(document.createTextNode(css));\n    document.body.appendChild(element);\n  }\n\n  const js_urls = [\"https://cdn.bokeh.org/bokeh/release/bokeh-3.0.3.min.js\", \"https://cdn.bokeh.org/bokeh/release/bokeh-gl-3.0.3.min.js\", \"https://cdn.bokeh.org/bokeh/release/bokeh-widgets-3.0.3.min.js\", \"https://cdn.bokeh.org/bokeh/release/bokeh-tables-3.0.3.min.js\", \"https://cdn.bokeh.org/bokeh/release/bokeh-mathjax-3.0.3.min.js\"];\n  const css_urls = [];\n\n  const inline_js = [    function(Bokeh) {\n      Bokeh.set_log_level(\"info\");\n    },\nfunction(Bokeh) {\n    }\n  ];\n\n  function run_inline_js() {\n    if (root.Bokeh !== undefined || force === true) {\n          for (let i = 0; i < inline_js.length; i++) {\n      inline_js[i].call(root, root.Bokeh);\n    }\nif (force === true) {\n        display_loaded();\n      }} else if (Date.now() < root._bokeh_timeout) {\n      setTimeout(run_inline_js, 100);\n    } else if (!root._bokeh_failed_load) {\n      console.log(\"Bokeh: BokehJS failed to load within specified timeout.\");\n      root._bokeh_failed_load = true;\n    } else if (force !== true) {\n      const cell = $(document.getElementById(\"p1160\")).parents('.cell').data().cell;\n      cell.output_area.append_execute_result(NB_LOAD_WARNING)\n    }\n  }\n\n  if (root._bokeh_is_loading === 0) {\n    console.debug(\"Bokeh: BokehJS loaded, going straight to plotting\");\n    run_inline_js();\n  } else {\n    load_libs(css_urls, js_urls, function() {\n      console.debug(\"Bokeh: BokehJS plotting callback run at\", now());\n      run_inline_js();\n    });\n  }\n}(window));",
      "application/vnd.bokehjs_load.v0+json": "(function(root) {\n  function now() {\n    return new Date();\n  }\n\n  const force = true;\n\n  if (typeof root._bokeh_onload_callbacks === \"undefined\" || force === true) {\n    root._bokeh_onload_callbacks = [];\n    root._bokeh_is_loading = undefined;\n  }\n\n\n  if (typeof (root._bokeh_timeout) === \"undefined\" || force === true) {\n    root._bokeh_timeout = Date.now() + 5000;\n    root._bokeh_failed_load = false;\n  }\n\n  const NB_LOAD_WARNING = {'data': {'text/html':\n     \"<div style='background-color: #fdd'>\\n\"+\n     \"<p>\\n\"+\n     \"BokehJS does not appear to have successfully loaded. If loading BokehJS from CDN, this \\n\"+\n     \"may be due to a slow or bad network connection. Possible fixes:\\n\"+\n     \"</p>\\n\"+\n     \"<ul>\\n\"+\n     \"<li>re-rerun `output_notebook()` to attempt to load from CDN again, or</li>\\n\"+\n     \"<li>use INLINE resources instead, as so:</li>\\n\"+\n     \"</ul>\\n\"+\n     \"<code>\\n\"+\n     \"from bokeh.resources import INLINE\\n\"+\n     \"output_notebook(resources=INLINE)\\n\"+\n     \"</code>\\n\"+\n     \"</div>\"}};\n\n  function display_loaded() {\n    const el = document.getElementById(\"p1160\");\n    if (el != null) {\n      el.textContent = \"BokehJS is loading...\";\n    }\n    if (root.Bokeh !== undefined) {\n      if (el != null) {\n        el.textContent = \"BokehJS \" + root.Bokeh.version + \" successfully loaded.\";\n      }\n    } else if (Date.now() < root._bokeh_timeout) {\n      setTimeout(display_loaded, 100)\n    }\n  }\n\n  function run_callbacks() {\n    try {\n      root._bokeh_onload_callbacks.forEach(function(callback) {\n        if (callback != null)\n          callback();\n      });\n    } finally {\n      delete root._bokeh_onload_callbacks\n    }\n    console.debug(\"Bokeh: all callbacks have finished\");\n  }\n\n  function load_libs(css_urls, js_urls, callback) {\n    if (css_urls == null) css_urls = [];\n    if (js_urls == null) js_urls = [];\n\n    root._bokeh_onload_callbacks.push(callback);\n    if (root._bokeh_is_loading > 0) {\n      console.debug(\"Bokeh: BokehJS is being loaded, scheduling callback at\", now());\n      return null;\n    }\n    if (js_urls == null || js_urls.length === 0) {\n      run_callbacks();\n      return null;\n    }\n    console.debug(\"Bokeh: BokehJS not loaded, scheduling load and callback at\", now());\n    root._bokeh_is_loading = css_urls.length + js_urls.length;\n\n    function on_load() {\n      root._bokeh_is_loading--;\n      if (root._bokeh_is_loading === 0) {\n        console.debug(\"Bokeh: all BokehJS libraries/stylesheets loaded\");\n        run_callbacks()\n      }\n    }\n\n    function on_error(url) {\n      console.error(\"failed to load \" + url);\n    }\n\n    for (let i = 0; i < css_urls.length; i++) {\n      const url = css_urls[i];\n      const element = document.createElement(\"link\");\n      element.onload = on_load;\n      element.onerror = on_error.bind(null, url);\n      element.rel = \"stylesheet\";\n      element.type = \"text/css\";\n      element.href = url;\n      console.debug(\"Bokeh: injecting link tag for BokehJS stylesheet: \", url);\n      document.body.appendChild(element);\n    }\n\n    for (let i = 0; i < js_urls.length; i++) {\n      const url = js_urls[i];\n      const element = document.createElement('script');\n      element.onload = on_load;\n      element.onerror = on_error.bind(null, url);\n      element.async = false;\n      element.src = url;\n      console.debug(\"Bokeh: injecting script tag for BokehJS library: \", url);\n      document.head.appendChild(element);\n    }\n  };\n\n  function inject_raw_css(css) {\n    const element = document.createElement(\"style\");\n    element.appendChild(document.createTextNode(css));\n    document.body.appendChild(element);\n  }\n\n  const js_urls = [\"https://cdn.bokeh.org/bokeh/release/bokeh-3.0.3.min.js\", \"https://cdn.bokeh.org/bokeh/release/bokeh-gl-3.0.3.min.js\", \"https://cdn.bokeh.org/bokeh/release/bokeh-widgets-3.0.3.min.js\", \"https://cdn.bokeh.org/bokeh/release/bokeh-tables-3.0.3.min.js\", \"https://cdn.bokeh.org/bokeh/release/bokeh-mathjax-3.0.3.min.js\"];\n  const css_urls = [];\n\n  const inline_js = [    function(Bokeh) {\n      Bokeh.set_log_level(\"info\");\n    },\nfunction(Bokeh) {\n    }\n  ];\n\n  function run_inline_js() {\n    if (root.Bokeh !== undefined || force === true) {\n          for (let i = 0; i < inline_js.length; i++) {\n      inline_js[i].call(root, root.Bokeh);\n    }\nif (force === true) {\n        display_loaded();\n      }} else if (Date.now() < root._bokeh_timeout) {\n      setTimeout(run_inline_js, 100);\n    } else if (!root._bokeh_failed_load) {\n      console.log(\"Bokeh: BokehJS failed to load within specified timeout.\");\n      root._bokeh_failed_load = true;\n    } else if (force !== true) {\n      const cell = $(document.getElementById(\"p1160\")).parents('.cell').data().cell;\n      cell.output_area.append_execute_result(NB_LOAD_WARNING)\n    }\n  }\n\n  if (root._bokeh_is_loading === 0) {\n    console.debug(\"Bokeh: BokehJS loaded, going straight to plotting\");\n    run_inline_js();\n  } else {\n    load_libs(css_urls, js_urls, function() {\n      console.debug(\"Bokeh: BokehJS plotting callback run at\", now());\n      run_inline_js();\n    });\n  }\n}(window));"
     },
     "metadata": {},
     "output_type": "display_data"
    },
    {
     "data": {
      "text/html": "\n  <div id=\"ad7a8e1e-55b4-45d6-9208-c942f119297c\" data-root-id=\"p1033\" style=\"display: contents;\"></div>\n"
     },
     "metadata": {},
     "output_type": "display_data"
    },
    {
     "data": {
      "application/javascript": "(function(root) {\n  function embed_document(root) {\n  const docs_json = {\"60958ab9-69b3-4bd9-b3b2-69902bede6d5\":{\"version\":\"3.0.3\",\"title\":\"Bokeh Application\",\"defs\":[],\"roots\":[{\"type\":\"object\",\"name\":\"Figure\",\"id\":\"p1033\",\"attributes\":{\"min_width\":500,\"min_height\":500,\"x_range\":{\"type\":\"object\",\"name\":\"DataRange1d\",\"id\":\"p1035\"},\"y_range\":{\"type\":\"object\",\"name\":\"DataRange1d\",\"id\":\"p1034\"},\"x_scale\":{\"type\":\"object\",\"name\":\"LinearScale\",\"id\":\"p1047\"},\"y_scale\":{\"type\":\"object\",\"name\":\"LinearScale\",\"id\":\"p1049\"},\"title\":{\"type\":\"object\",\"name\":\"Title\",\"id\":\"p1036\",\"attributes\":{\"text\":\"Publication network analysis\",\"text_color\":\"#5B5B5B\",\"text_font\":\"Helvetica\",\"text_font_size\":\"1.15em\"}},\"renderers\":[{\"type\":\"object\",\"name\":\"LabelSet\",\"id\":\"p1156\",\"attributes\":{\"source\":{\"type\":\"object\",\"name\":\"ColumnDataSource\",\"id\":\"p1153\",\"attributes\":{\"selected\":{\"type\":\"object\",\"name\":\"Selection\",\"id\":\"p1154\",\"attributes\":{\"indices\":[],\"line_indices\":[]}},\"selection_policy\":{\"type\":\"object\",\"name\":\"UnionRenderers\",\"id\":\"p1155\"},\"data\":{\"type\":\"map\",\"entries\":[[\"x\",[-1.617612385172517,1.6706778891781362,2.30931768338473,0.23387973840013487,2.117642924933051,-4.0,-3.526350221468928,2.406879125371289,-3.4631271322511803,2.8620574188263546,2.171118428921943,2.70114909346608,-1.1446387515968113,0.4715635975920233,0.44008020956968313,2.596894242315633,-1.9570946186260934,-2.861465237274648,-3.1707963266783343,1.7598243211094522]],[\"y\",[0.6546563818345158,1.2317534427569805,1.4473607416556036,3.232988593087456,0.9780737729688265,-0.4579544299587229,-1.3940200384381038,0.6669526991281115,-0.0825129650002007,0.8412665625576901,-3.0399558736108645,-2.6189394010595652,-3.566956747498289,2.3557690093969783,-3.7657789940010127,1.2265048982793625,1.4382491553410055,-0.4506385346313731,0.6025942865156763,0.7005874406759243]],[\"name\",[\"He\",\"Adachi\",\"Yamada\",\"Behra\",\"Makishima\",\"Jashari\",\"Yao\",\"Masuno\",\"Van Hoeck\",\"Ito\",\"Hunkeler\",\"Bartkowiak\",\"Durrieu\",\"Charriere\",\"Patel\",\"Shimizu\",\"Qiao\",\"Venditti\",\"Reeb\",\"Ishizawa\"]]]}}},\"x\":{\"type\":\"field\",\"field\":\"x\"},\"y\":{\"type\":\"field\",\"field\":\"y\"},\"text\":{\"type\":\"field\",\"field\":\"name\"},\"text_font_size\":{\"type\":\"value\",\"value\":\"10px\"},\"background_fill_color\":{\"type\":\"value\",\"value\":\"white\"},\"background_fill_alpha\":{\"type\":\"value\",\"value\":0.7}}},{\"type\":\"object\",\"name\":\"GraphRenderer\",\"id\":\"p1001\",\"attributes\":{\"layout_provider\":{\"type\":\"object\",\"name\":\"StaticLayoutProvider\",\"id\":\"p1032\",\"attributes\":{\"graph_layout\":{\"type\":\"map\",\"entries\":[[0,{\"type\":\"ndarray\",\"array\":{\"type\":\"bytes\",\"data\":\"b7o+hr3h+b8VGsPw8fLkPw==\"},\"shape\":[2],\"dtype\":\"float64\",\"order\":\"little\"}],[1,{\"type\":\"ndarray\",\"array\":{\"type\":\"bytes\",\"data\":\"/bkCvRi7+j+3BhYZQ7XzPw==\"},\"shape\":[2],\"dtype\":\"float64\",\"order\":\"little\"}],[2,{\"type\":\"ndarray\",\"array\":{\"type\":\"bytes\",\"data\":\"+LGxjHt5AkBNza68Yyj3Pw==\"},\"shape\":[2],\"dtype\":\"float64\",\"order\":\"little\"}],[3,{\"type\":\"ndarray\",\"array\":{\"type\":\"bytes\",\"data\":\"JBTQccXvzT+hNp0fKd0JQA==\"},\"shape\":[2],\"dtype\":\"float64\",\"order\":\"little\"}],[4,{\"type\":\"ndarray\",\"array\":{\"type\":\"bytes\",\"data\":\"wIsZxu7wAED8Pn9eYUzvPw==\"},\"shape\":[2],\"dtype\":\"float64\",\"order\":\"little\"}],[5,{\"type\":\"ndarray\",\"array\":{\"type\":\"bytes\",\"data\":\"AAAAAAAAEMBRye4YIE/dvw==\"},\"shape\":[2],\"dtype\":\"float64\",\"order\":\"little\"}],[6,{\"type\":\"ndarray\",\"array\":{\"type\":\"bytes\",\"data\":\"eZzbGvc1DMAR97D05032vw==\"},\"shape\":[2],\"dtype\":\"float64\",\"order\":\"little\"}],[7,{\"type\":\"ndarray\",\"array\":{\"type\":\"bytes\",\"data\":\"fSjH10lBA0BLftcvrVflPw==\"},\"shape\":[2],\"dtype\":\"float64\",\"order\":\"little\"}],[8,{\"type\":\"ndarray\",\"array\":{\"type\":\"bytes\",\"data\":\"z0V3/3u0C8Cq/ivWkR+1vw==\"},\"shape\":[2],\"dtype\":\"float64\",\"order\":\"little\"}],[9,{\"type\":\"ndarray\",\"array\":{\"type\":\"bytes\",\"data\":\"IxEpXH7lBkBu6qzap+vqPw==\"},\"shape\":[2],\"dtype\":\"float64\",\"order\":\"little\"}],[10,{\"type\":\"ndarray\",\"array\":{\"type\":\"bytes\",\"data\":\"gLO/VnNeAUDAiJNi1FEIwA==\"},\"shape\":[2],\"dtype\":\"float64\",\"order\":\"little\"}],[11,{\"type\":\"ndarray\",\"array\":{\"type\":\"bytes\",\"data\":\"c3RQDvSbBUCkDS6AlvMEwA==\"},\"shape\":[2],\"dtype\":\"float64\",\"order\":\"little\"}],[12,{\"type\":\"ndarray\",\"array\":{\"type\":\"bytes\",\"data\":\"LXs9uXBQ8r9xA4aeIIkMwA==\"},\"shape\":[2],\"dtype\":\"float64\",\"order\":\"little\"}],[13,{\"type\":\"ndarray\",\"array\":{\"type\":\"bytes\",\"data\":\"+xNpFRku3j+dUiJsndgCQA==\"},\"shape\":[2],\"dtype\":\"float64\",\"order\":\"little\"}],[14,{\"type\":\"ndarray\",\"array\":{\"type\":\"bytes\",\"data\":\"y/3tLkYq3D/Flbm8UCAOwA==\"},\"shape\":[2],\"dtype\":\"float64\",\"order\":\"little\"}],[15,{\"type\":\"ndarray\",\"array\":{\"type\":\"bytes\",\"data\":\"rFQPfXDGBEAR5qeZw5/zPw==\"},\"shape\":[2],\"dtype\":\"float64\",\"order\":\"little\"}],[16,{\"type\":\"ndarray\",\"array\":{\"type\":\"bytes\",\"data\":\"ndNickJQ/78jB9uLEQP3Pw==\"},\"shape\":[2],\"dtype\":\"float64\",\"order\":\"little\"}],[17,{\"type\":\"ndarray\",\"array\":{\"type\":\"bytes\",\"data\":\"SuLl4kfkBsB5yCMCQ9fcvw==\"},\"shape\":[2],\"dtype\":\"float64\",\"order\":\"little\"}],[18,{\"type\":\"ndarray\",\"array\":{\"type\":\"bytes\",\"data\":\"DuLqdspdCcDL6yrQc0jjPw==\"},\"shape\":[2],\"dtype\":\"float64\",\"order\":\"little\"}],[19,{\"type\":\"ndarray\",\"array\":{\"type\":\"bytes\",\"data\":\"ke0djD0o/D88IDZaNmvmPw==\"},\"shape\":[2],\"dtype\":\"float64\",\"order\":\"little\"}]]}}},\"node_renderer\":{\"type\":\"object\",\"name\":\"GlyphRenderer\",\"id\":\"p1006\",\"attributes\":{\"data_source\":{\"type\":\"object\",\"name\":\"ColumnDataSource\",\"id\":\"p1003\",\"attributes\":{\"selected\":{\"type\":\"object\",\"name\":\"Selection\",\"id\":\"p1004\",\"attributes\":{\"indices\":[],\"line_indices\":[]}},\"selection_policy\":{\"type\":\"object\",\"name\":\"UnionRenderers\",\"id\":\"p1005\"},\"data\":{\"type\":\"map\",\"entries\":[[\"node_color\",[\"#1b9e77\",\"#d95f02\",\"#d95f02\",\"#7570b3\",\"#d95f02\",\"#e7298a\",\"#66a61e\",\"#d95f02\",\"#e7298a\",\"#d95f02\",\"#e6ab02\",\"#e6ab02\",\"#a6761d\",\"#7570b3\",\"#666666\",\"#d95f02\",\"#1b9e77\",\"#66a61e\",\"#66a61e\",\"#d95f02\"]],[\"adj_node_size\",[10.0,10.0,10.0,10.0,10.0,10.0,20.0,15.0,10.0,10.0,10.0,10.0,10.0,10.0,10.0,10.0,10.0,10.0,10.0,10.0]],[\"publications\",[1,2,3,2,3,2,5,4,2,2,2,2,2,2,2,2,1,3,2,2]],[\"Name\",[\"He, Ting\",\"Adachi, Ryutaro\",\"Yamada, Sachiko\",\"Behra, Philippe\",\"Makishima, Makoto\",\"Jashari, Ramadan\",\"Yao, Yuan\",\"Masuno, Hiroyuki\",\"Van Hoeck, B.\",\"Ito, Nobutoshi\",\"Hunkeler, David\",\"Bartkowiak, Artur\",\"Durrieu, Vanessa\",\"Charriere, Delphine\",\"Patel, Martin Kumar\",\"Shimizu, Masato\",\"Qiao, Shida\",\"Venditti, Richard A.\",\"Reeb, Carter\",\"Ishizawa, Michiyasu\"]],[\"lname\",[\"He\",\"Adachi\",\"Yamada\",\"Behra\",\"Makishima\",\"Jashari\",\"Yao\",\"Masuno\",\"Van Hoeck\",\"Ito\",\"Hunkeler\",\"Bartkowiak\",\"Durrieu\",\"Charriere\",\"Patel\",\"Shimizu\",\"Qiao\",\"Venditti\",\"Reeb\",\"Ishizawa\"]],[\"index\",[0,1,2,3,4,5,6,7,8,9,10,11,12,13,14,15,16,17,18,19]]]}}},\"view\":{\"type\":\"object\",\"name\":\"CDSView\",\"id\":\"p1007\",\"attributes\":{\"filter\":{\"type\":\"object\",\"name\":\"AllIndices\",\"id\":\"p1008\"}}},\"glyph\":{\"type\":\"object\",\"name\":\"Circle\",\"id\":\"p1101\",\"attributes\":{\"size\":{\"type\":\"field\",\"field\":\"adj_node_size\"},\"fill_color\":{\"type\":\"field\",\"field\":\"node_color\"}}},\"selection_glyph\":{\"type\":\"object\",\"name\":\"Circle\",\"id\":\"p1109\",\"attributes\":{\"size\":{\"type\":\"value\",\"value\":15},\"fill_color\":{\"type\":\"value\",\"value\":\"red\"}}},\"hover_glyph\":{\"type\":\"object\",\"name\":\"Circle\",\"id\":\"p1117\",\"attributes\":{\"size\":{\"type\":\"value\",\"value\":15},\"fill_color\":{\"type\":\"value\",\"value\":\"black\"}}}}},\"edge_renderer\":{\"type\":\"object\",\"name\":\"GlyphRenderer\",\"id\":\"p1015\",\"attributes\":{\"data_source\":{\"type\":\"object\",\"name\":\"ColumnDataSource\",\"id\":\"p1012\",\"attributes\":{\"selected\":{\"type\":\"object\",\"name\":\"Selection\",\"id\":\"p1013\",\"attributes\":{\"indices\":[],\"line_indices\":[]}},\"selection_policy\":{\"type\":\"object\",\"name\":\"UnionRenderers\",\"id\":\"p1014\"},\"data\":{\"type\":\"map\",\"entries\":[[\"adj_edge_width\",[2.5,2.5,2.5,2.5,2.5,2.5,2.5,2.5,2.5,2.5,5.0,2.5,2.5,2.5,5.0,2.5,2.5,2.5,2.5,2.5,2.5,2.5,2.5,2.5,2.5,2.5]],[\"Count\",[1,1,2,2,1,2,1,2,1,1,3,2,2,1,3,1,1,1,1,2,2,1,1,2,1,2]],[\"start\",[0,1,1,1,1,1,2,2,2,2,2,3,4,4,4,4,5,6,7,7,7,9,9,10,15,17]],[\"end\",[16,19,4,7,15,2,9,4,15,19,7,13,19,9,7,15,8,17,19,9,15,19,15,11,19,18]]]}}},\"view\":{\"type\":\"object\",\"name\":\"CDSView\",\"id\":\"p1016\",\"attributes\":{\"filter\":{\"type\":\"object\",\"name\":\"AllIndices\",\"id\":\"p1017\"}}},\"glyph\":{\"type\":\"object\",\"name\":\"MultiLine\",\"id\":\"p1125\",\"attributes\":{\"line_color\":{\"type\":\"value\",\"value\":\"#CCCCCC\"},\"line_alpha\":{\"type\":\"value\",\"value\":0.5},\"line_width\":{\"type\":\"field\",\"field\":\"adj_edge_width\"}}},\"selection_glyph\":{\"type\":\"object\",\"name\":\"MultiLine\",\"id\":\"p1133\",\"attributes\":{\"line_color\":{\"type\":\"value\",\"value\":\"red\"},\"line_alpha\":{\"type\":\"value\",\"value\":0.5},\"line_width\":{\"type\":\"field\",\"field\":\"adj_edge_width\"}}},\"hover_glyph\":{\"type\":\"object\",\"name\":\"MultiLine\",\"id\":\"p1141\",\"attributes\":{\"line_alpha\":{\"type\":\"value\",\"value\":0.5},\"line_width\":{\"type\":\"field\",\"field\":\"adj_edge_width\"}}}}},\"selection_policy\":{\"type\":\"object\",\"name\":\"NodesAndLinkedEdges\",\"id\":\"p1149\"},\"inspection_policy\":{\"type\":\"object\",\"name\":\"NodesAndLinkedEdges\",\"id\":\"p1151\"}}}],\"toolbar\":{\"type\":\"object\",\"name\":\"Toolbar\",\"id\":\"p1040\",\"attributes\":{\"tools\":[{\"type\":\"object\",\"name\":\"PanTool\",\"id\":\"p1065\"},{\"type\":\"object\",\"name\":\"SaveTool\",\"id\":\"p1066\"},{\"type\":\"object\",\"name\":\"ResetTool\",\"id\":\"p1067\"},{\"type\":\"object\",\"name\":\"WheelZoomTool\",\"id\":\"p1068\"},{\"type\":\"object\",\"name\":\"BoxZoomTool\",\"id\":\"p1069\",\"attributes\":{\"overlay\":{\"type\":\"object\",\"name\":\"BoxAnnotation\",\"id\":\"p1070\",\"attributes\":{\"syncable\":false,\"level\":\"overlay\",\"visible\":false,\"left_units\":\"canvas\",\"right_units\":\"canvas\",\"bottom_units\":\"canvas\",\"top_units\":\"canvas\",\"line_color\":\"black\",\"line_alpha\":1.0,\"line_width\":2,\"line_dash\":[4,4],\"fill_color\":\"lightgrey\",\"fill_alpha\":0.5}}}},{\"type\":\"object\",\"name\":\"HoverTool\",\"id\":\"p1085\",\"attributes\":{\"renderers\":[{\"id\":\"p1006\"}],\"tooltips\":[[\"Name\",\"@Name\"],[\"Publications\",\"@publications\"]]}},{\"type\":\"object\",\"name\":\"HoverTool\",\"id\":\"p1094\",\"attributes\":{\"renderers\":[{\"id\":\"p1015\"}],\"tooltips\":[[\"Count\",\"@Count\"]],\"line_policy\":\"interp\"}},{\"type\":\"object\",\"name\":\"TapTool\",\"id\":\"p1096\",\"attributes\":{\"renderers\":\"auto\"}},{\"type\":\"object\",\"name\":\"BoxSelectTool\",\"id\":\"p1097\",\"attributes\":{\"renderers\":\"auto\",\"overlay\":{\"type\":\"object\",\"name\":\"BoxAnnotation\",\"id\":\"p1098\",\"attributes\":{\"syncable\":false,\"level\":\"overlay\",\"visible\":false,\"left_units\":\"canvas\",\"right_units\":\"canvas\",\"bottom_units\":\"canvas\",\"top_units\":\"canvas\",\"line_color\":\"black\",\"line_alpha\":1.0,\"line_width\":2,\"line_dash\":[4,4],\"fill_color\":\"lightgrey\",\"fill_alpha\":0.5}}}}],\"active_scroll\":{\"id\":\"p1068\"}}},\"left\":[{\"type\":\"object\",\"name\":\"LinearAxis\",\"id\":\"p1058\",\"attributes\":{\"ticker\":{\"type\":\"object\",\"name\":\"BasicTicker\",\"id\":\"p1060\",\"attributes\":{\"mantissas\":[1,2,5]}},\"formatter\":{\"type\":\"object\",\"name\":\"BasicTickFormatter\",\"id\":\"p1061\"},\"axis_label_standoff\":10,\"axis_label_text_color\":\"#5B5B5B\",\"axis_label_text_font\":\"Helvetica\",\"axis_label_text_font_size\":\"1.25em\",\"axis_label_text_font_style\":\"normal\",\"major_label_policy\":{\"type\":\"object\",\"name\":\"AllLabels\",\"id\":\"p1059\"},\"major_label_text_color\":\"#5B5B5B\",\"major_label_text_font\":\"Helvetica\",\"major_label_text_font_size\":\"1.025em\",\"axis_line_color\":\"#5B5B5B\",\"axis_line_alpha\":0,\"major_tick_line_color\":\"#5B5B5B\",\"major_tick_line_alpha\":0,\"minor_tick_line_color\":\"#5B5B5B\",\"minor_tick_line_alpha\":0}}],\"below\":[{\"type\":\"object\",\"name\":\"LinearAxis\",\"id\":\"p1051\",\"attributes\":{\"ticker\":{\"type\":\"object\",\"name\":\"BasicTicker\",\"id\":\"p1053\",\"attributes\":{\"mantissas\":[1,2,5]}},\"formatter\":{\"type\":\"object\",\"name\":\"BasicTickFormatter\",\"id\":\"p1054\"},\"axis_label_standoff\":10,\"axis_label_text_color\":\"#5B5B5B\",\"axis_label_text_font\":\"Helvetica\",\"axis_label_text_font_size\":\"1.25em\",\"axis_label_text_font_style\":\"normal\",\"major_label_policy\":{\"type\":\"object\",\"name\":\"AllLabels\",\"id\":\"p1052\"},\"major_label_text_color\":\"#5B5B5B\",\"major_label_text_font\":\"Helvetica\",\"major_label_text_font_size\":\"1.025em\",\"axis_line_color\":\"#5B5B5B\",\"axis_line_alpha\":0,\"major_tick_line_color\":\"#5B5B5B\",\"major_tick_line_alpha\":0,\"minor_tick_line_color\":\"#5B5B5B\",\"minor_tick_line_alpha\":0}}],\"center\":[{\"type\":\"object\",\"name\":\"Grid\",\"id\":\"p1057\",\"attributes\":{\"axis\":{\"id\":\"p1051\"}}},{\"type\":\"object\",\"name\":\"Grid\",\"id\":\"p1064\",\"attributes\":{\"dimension\":1,\"axis\":{\"id\":\"p1058\"}}}]}}]}};\n  const render_items = [{\"docid\":\"60958ab9-69b3-4bd9-b3b2-69902bede6d5\",\"roots\":{\"p1033\":\"ad7a8e1e-55b4-45d6-9208-c942f119297c\"},\"root_ids\":[\"p1033\"]}];\n  root.Bokeh.embed.embed_items_notebook(docs_json, render_items);\n  }\n  if (root.Bokeh !== undefined) {\n    embed_document(root);\n  } else {\n    let attempts = 0;\n    const timer = setInterval(function(root) {\n      if (root.Bokeh !== undefined) {\n        clearInterval(timer);\n        embed_document(root);\n      } else {\n        attempts++;\n        if (attempts > 100) {\n          clearInterval(timer);\n          console.log(\"Bokeh: ERROR: Unable to run BokehJS code because BokehJS library is missing\");\n        }\n      }\n    }, 10, root)\n  }\n})(window);",
      "application/vnd.bokehjs_exec.v0+json": ""
     },
     "metadata": {
      "application/vnd.bokehjs_exec.v0+json": {
       "id": "p1033"
      }
     },
     "output_type": "display_data"
    }
   ],
   "source": [
    "from bokeh.io import output_file\n",
    "\n",
    "plot = bokeh_graph_plot(G_top,layout=\"spring\")\n",
    "\n",
    "# Cant seem to get mouse wheel zoom on local jupyter notebook\n",
    "# comment out line below to plot on browser to allow wheel zoom\n",
    "output_notebook()\n",
    "\n",
    "show(plot)"
   ],
   "metadata": {
    "collapsed": false
   }
  },
  {
   "cell_type": "markdown",
   "source": [
    "![](bokeh_graph_plot.png)"
   ],
   "metadata": {
    "collapsed": false
   }
  },
  {
   "cell_type": "code",
   "execution_count": 9,
   "outputs": [],
   "source": [],
   "metadata": {
    "collapsed": false
   }
  },
  {
   "cell_type": "code",
   "execution_count": 9,
   "outputs": [],
   "source": [],
   "metadata": {
    "collapsed": false
   }
  }
 ],
 "metadata": {
  "kernelspec": {
   "display_name": "Python 3 (ipykernel)",
   "language": "python",
   "name": "python3"
  },
  "language_info": {
   "codemirror_mode": {
    "name": "ipython",
    "version": 3
   },
   "file_extension": ".py",
   "mimetype": "text/x-python",
   "name": "python",
   "nbconvert_exporter": "python",
   "pygments_lexer": "ipython3",
   "version": "3.9.12"
  }
 },
 "nbformat": 4,
 "nbformat_minor": 5
}
